{
 "cells": [
  {
   "cell_type": "code",
   "execution_count": 141,
   "id": "e24607c9-c7bf-497d-85c9-1731606513f2",
   "metadata": {},
   "outputs": [],
   "source": [
    "import pandas as pd\n",
    "import numpy as np\n",
    "from sklearn.linear_model import LinearRegression\n",
    "from sklearn.linear_model import LogisticRegression\n",
    "from sklearn.tree import DecisionTreeRegressor\n",
    "from sklearn.tree import plot_tree\n",
    "from sklearn import model_selection\n",
    "from sklearn.metrics import classification_report\n",
    "from sklearn.metrics import confusion_matrix\n",
    "from sklearn.metrics import accuracy_score\n",
    "from sklearn.model_selection import train_test_split\n",
    "import matplotlib.pyplot as plt\n",
    "import seaborn as sb\n",
    "%matplotlib inline"
   ]
  },
  {
   "cell_type": "code",
   "execution_count": 142,
   "id": "32dfb0bf-70e1-4ec3-b00f-d88ed9d15f08",
   "metadata": {},
   "outputs": [
    {
     "data": {
      "text/html": [
       "<div>\n",
       "<style scoped>\n",
       "    .dataframe tbody tr th:only-of-type {\n",
       "        vertical-align: middle;\n",
       "    }\n",
       "\n",
       "    .dataframe tbody tr th {\n",
       "        vertical-align: top;\n",
       "    }\n",
       "\n",
       "    .dataframe thead th {\n",
       "        text-align: right;\n",
       "    }\n",
       "</style>\n",
       "<table border=\"1\" class=\"dataframe\">\n",
       "  <thead>\n",
       "    <tr style=\"text-align: right;\">\n",
       "      <th></th>\n",
       "      <th>duracion</th>\n",
       "      <th>paginas</th>\n",
       "      <th>acciones</th>\n",
       "      <th>valor</th>\n",
       "      <th>clase</th>\n",
       "    </tr>\n",
       "  </thead>\n",
       "  <tbody>\n",
       "    <tr>\n",
       "      <th>0</th>\n",
       "      <td>7.0</td>\n",
       "      <td>2</td>\n",
       "      <td>4</td>\n",
       "      <td>8</td>\n",
       "      <td>2</td>\n",
       "    </tr>\n",
       "    <tr>\n",
       "      <th>1</th>\n",
       "      <td>21.0</td>\n",
       "      <td>2</td>\n",
       "      <td>6</td>\n",
       "      <td>6</td>\n",
       "      <td>2</td>\n",
       "    </tr>\n",
       "    <tr>\n",
       "      <th>2</th>\n",
       "      <td>57.0</td>\n",
       "      <td>2</td>\n",
       "      <td>4</td>\n",
       "      <td>4</td>\n",
       "      <td>2</td>\n",
       "    </tr>\n",
       "    <tr>\n",
       "      <th>3</th>\n",
       "      <td>101.0</td>\n",
       "      <td>3</td>\n",
       "      <td>6</td>\n",
       "      <td>12</td>\n",
       "      <td>2</td>\n",
       "    </tr>\n",
       "    <tr>\n",
       "      <th>4</th>\n",
       "      <td>109.0</td>\n",
       "      <td>2</td>\n",
       "      <td>6</td>\n",
       "      <td>12</td>\n",
       "      <td>2</td>\n",
       "    </tr>\n",
       "  </tbody>\n",
       "</table>\n",
       "</div>"
      ],
      "text/plain": [
       "   duracion  paginas  acciones  valor  clase\n",
       "0       7.0        2         4      8      2\n",
       "1      21.0        2         6      6      2\n",
       "2      57.0        2         4      4      2\n",
       "3     101.0        3         6     12      2\n",
       "4     109.0        2         6     12      2"
      ]
     },
     "execution_count": 142,
     "metadata": {},
     "output_type": "execute_result"
    }
   ],
   "source": [
    "dataframe = pd.read_csv(\"usuarios_win_mac_lin.csv\")\n",
    "dataframe.head()"
   ]
  },
  {
   "cell_type": "code",
   "execution_count": 143,
   "id": "4020329b-2110-4d6a-8710-07ccacb67a8e",
   "metadata": {},
   "outputs": [
    {
     "data": {
      "text/html": [
       "<div>\n",
       "<style scoped>\n",
       "    .dataframe tbody tr th:only-of-type {\n",
       "        vertical-align: middle;\n",
       "    }\n",
       "\n",
       "    .dataframe tbody tr th {\n",
       "        vertical-align: top;\n",
       "    }\n",
       "\n",
       "    .dataframe thead th {\n",
       "        text-align: right;\n",
       "    }\n",
       "</style>\n",
       "<table border=\"1\" class=\"dataframe\">\n",
       "  <thead>\n",
       "    <tr style=\"text-align: right;\">\n",
       "      <th></th>\n",
       "      <th>duracion</th>\n",
       "      <th>paginas</th>\n",
       "      <th>acciones</th>\n",
       "      <th>valor</th>\n",
       "      <th>clase</th>\n",
       "    </tr>\n",
       "  </thead>\n",
       "  <tbody>\n",
       "    <tr>\n",
       "      <th>count</th>\n",
       "      <td>170.000000</td>\n",
       "      <td>170.000000</td>\n",
       "      <td>170.000000</td>\n",
       "      <td>170.000000</td>\n",
       "      <td>170.000000</td>\n",
       "    </tr>\n",
       "    <tr>\n",
       "      <th>mean</th>\n",
       "      <td>111.075729</td>\n",
       "      <td>2.041176</td>\n",
       "      <td>8.723529</td>\n",
       "      <td>32.676471</td>\n",
       "      <td>0.752941</td>\n",
       "    </tr>\n",
       "    <tr>\n",
       "      <th>std</th>\n",
       "      <td>202.453200</td>\n",
       "      <td>1.500911</td>\n",
       "      <td>9.136054</td>\n",
       "      <td>44.751993</td>\n",
       "      <td>0.841327</td>\n",
       "    </tr>\n",
       "    <tr>\n",
       "      <th>min</th>\n",
       "      <td>1.000000</td>\n",
       "      <td>1.000000</td>\n",
       "      <td>1.000000</td>\n",
       "      <td>1.000000</td>\n",
       "      <td>0.000000</td>\n",
       "    </tr>\n",
       "    <tr>\n",
       "      <th>25%</th>\n",
       "      <td>11.000000</td>\n",
       "      <td>1.000000</td>\n",
       "      <td>3.000000</td>\n",
       "      <td>8.000000</td>\n",
       "      <td>0.000000</td>\n",
       "    </tr>\n",
       "    <tr>\n",
       "      <th>50%</th>\n",
       "      <td>13.000000</td>\n",
       "      <td>2.000000</td>\n",
       "      <td>6.000000</td>\n",
       "      <td>20.000000</td>\n",
       "      <td>0.000000</td>\n",
       "    </tr>\n",
       "    <tr>\n",
       "      <th>75%</th>\n",
       "      <td>108.000000</td>\n",
       "      <td>2.000000</td>\n",
       "      <td>10.000000</td>\n",
       "      <td>36.000000</td>\n",
       "      <td>2.000000</td>\n",
       "    </tr>\n",
       "    <tr>\n",
       "      <th>max</th>\n",
       "      <td>898.000000</td>\n",
       "      <td>9.000000</td>\n",
       "      <td>63.000000</td>\n",
       "      <td>378.000000</td>\n",
       "      <td>2.000000</td>\n",
       "    </tr>\n",
       "  </tbody>\n",
       "</table>\n",
       "</div>"
      ],
      "text/plain": [
       "         duracion     paginas    acciones       valor       clase\n",
       "count  170.000000  170.000000  170.000000  170.000000  170.000000\n",
       "mean   111.075729    2.041176    8.723529   32.676471    0.752941\n",
       "std    202.453200    1.500911    9.136054   44.751993    0.841327\n",
       "min      1.000000    1.000000    1.000000    1.000000    0.000000\n",
       "25%     11.000000    1.000000    3.000000    8.000000    0.000000\n",
       "50%     13.000000    2.000000    6.000000   20.000000    0.000000\n",
       "75%    108.000000    2.000000   10.000000   36.000000    2.000000\n",
       "max    898.000000    9.000000   63.000000  378.000000    2.000000"
      ]
     },
     "execution_count": 143,
     "metadata": {},
     "output_type": "execute_result"
    }
   ],
   "source": [
    "dataframe.describe()"
   ]
  },
  {
   "cell_type": "code",
   "execution_count": 144,
   "id": "5ad2ce0e-c422-48c9-a1c3-45bcae56f7c4",
   "metadata": {},
   "outputs": [
    {
     "name": "stdout",
     "output_type": "stream",
     "text": [
      "clase\n",
      "0    86\n",
      "1    40\n",
      "2    44\n",
      "dtype: int64\n"
     ]
    }
   ],
   "source": [
    "print(dataframe.groupby('clase').size())"
   ]
  },
  {
   "cell_type": "code",
   "execution_count": 145,
   "id": "a4e0b70e-03b2-4185-a987-4ae07541d525",
   "metadata": {},
   "outputs": [
    {
     "data": {
      "image/png": "[encoded data removed]",
      "text/plain": [
       "<Figure size 640x480 with 4 Axes>"
      ]
     },
     "metadata": {},
     "output_type": "display_data"
    }
   ],
   "source": [
    "dataframe.drop(['clase'], axis=1).hist()\n",
    "plt.show()"
   ]
  },
  {
   "cell_type": "code",
   "execution_count": 146,
   "id": "d5f3d5db-dcfc-4bf0-a28f-1746be42ae76",
   "metadata": {},
   "outputs": [],
   "source": [
    "\n",
    "################## Regresión Logística ##################\n"
   ]
  },
  {
   "cell_type": "code",
   "execution_count": 147,
   "id": "f0a2fa9e-3e1f-4176-9196-01f8e0f95c9b",
   "metadata": {},
   "outputs": [
    {
     "data": {
      "text/plain": [
       "(170, 4)"
      ]
     },
     "execution_count": 147,
     "metadata": {},
     "output_type": "execute_result"
    }
   ],
   "source": [
    "X = np.array(dataframe.drop(['clase'],axis=1))\n",
    "Y = np.array(dataframe['clase'])\n",
    "X.shape"
   ]
  },
  {
   "cell_type": "code",
   "execution_count": 148,
   "id": "19d7efdb-69c9-411f-9d22-e412e2019ed6",
   "metadata": {},
   "outputs": [
    {
     "data": {
      "text/plain": [
       "LogisticRegression(max_iter=3000)"
      ]
     },
     "execution_count": 148,
     "metadata": {},
     "output_type": "execute_result"
    }
   ],
   "source": [
    "model = LogisticRegression(solver='lbfgs', max_iter=3000)\n",
    "model.fit(X,Y)"
   ]
  },
  {
   "cell_type": "code",
   "execution_count": 149,
   "id": "a51b3a87-c827-465b-8a59-c3afe9ff381b",
   "metadata": {},
   "outputs": [
    {
     "name": "stdout",
     "output_type": "stream",
     "text": [
      "[2 2 2 2 2 2 2 2 2 2 2 2 2 2 2 2 2 0 0 0 0 1 0 1 0 1 1 0 1 1 1 1 1 1 0 2 2\n",
      " 2 2 2 0 0 0 1 0 1 0 1 0 0 0 0 0 0 0 0 0 0 0 0 0 0 0 1 0 0 0 1 0 0 0 0 2 0\n",
      " 0 1 1 1 0 0 0 0 0 0 0 0 2 1 0 0 0 0 1 0 0 2 0 2 1 0 0 0 0 0 0 0 0 0 0 1 2\n",
      " 2 2 2 2 2 2 2 2 2 2 2 2 2 2 2 2 2 2 2 0 0 0 0 0 0 0 0 0 0 0 0 0 0 0 2 0 0\n",
      " 0 0 0 2 0 0 0 2 0 0 0 0 0 0 0 0 2 0 0 0 0 0]\n"
     ]
    }
   ],
   "source": [
    "predictions = model.predict(X)\n",
    "print(predictions)"
   ]
  },
  {
   "cell_type": "code",
   "execution_count": 150,
   "id": "fff8f217-7ccc-42fd-acd3-f5f8dd1be661",
   "metadata": {},
   "outputs": [
    {
     "data": {
      "text/plain": [
       "0.7764705882352941"
      ]
     },
     "execution_count": 150,
     "metadata": {},
     "output_type": "execute_result"
    }
   ],
   "source": [
    "model.score(X,Y)"
   ]
  },
  {
   "cell_type": "code",
   "execution_count": 151,
   "id": "6bfe17f3-17be-45d3-8130-b098ba6f363e",
   "metadata": {},
   "outputs": [],
   "source": [
    "\n",
    "################## Regresión Lineal ##################\n"
   ]
  },
  {
   "cell_type": "code",
   "execution_count": 152,
   "id": "30abf681-7058-4272-99db-dfbe81ff812e",
   "metadata": {},
   "outputs": [],
   "source": [
    "X_train, X_test, y_train, y_test = train_test_split(X, Y, test_size=0.3, random_state = 123)"
   ]
  },
  {
   "cell_type": "code",
   "execution_count": 153,
   "id": "ae6f0c64-3a21-42ca-ad98-98fdbe24917c",
   "metadata": {},
   "outputs": [
    {
     "name": "stdout",
     "output_type": "stream",
     "text": [
      "0.8640809723919002\n",
      "[ 0.00044532  0.16703705 -0.04624213 -0.00251536]\n"
     ]
    }
   ],
   "source": [
    "lm = LinearRegression()\n",
    "lm.fit(X_train, y_train)\n",
    "# imprimir intercepto y coeficientes\n",
    "print (lm.intercept_)\n",
    "print (lm.coef_)"
   ]
  },
  {
   "cell_type": "code",
   "execution_count": 176,
   "id": "3dcb97f0-348e-4096-bd4b-8199149e320f",
   "metadata": {
    "tags": []
   },
   "outputs": [
    {
     "name": "stdout",
     "output_type": "stream",
     "text": [
      "[ 0.12907088  0.18266942  1.10153072  0.99618092 -0.8365651   0.89720284\n",
      "  0.92888544  1.13733711  0.82175437  0.6518728   0.93894686  1.06655512\n",
      "  0.64001804  1.24220258  1.45640992  0.91423863 -0.70200207 -0.25253561\n",
      "  0.60756732  1.50053607  0.93436147  0.86755118  0.57366896  0.98770435\n",
      "  0.93391615  1.00224424  0.88264331  0.85245905 -0.34926785  0.86710586\n",
      "  0.44319     1.06613673  1.16232364  1.10253222  0.81124763  0.88264331\n",
      "  0.87600212  0.92530154  0.64011038  0.9183787   0.25331549  0.88219799\n",
      "  1.16321615  0.74281262  0.87057607  0.5855881  -0.02763956  0.91070848\n",
      "  0.76707553  0.607122    0.21025593  0.91496182  0.77904974  0.55893115\n",
      "  0.60615626  0.75538939  1.29392784  1.15483673  0.09722414  1.1745734\n",
      "  0.71373265  0.36534432  0.23442069  1.13102891  0.69864052  0.63695927\n",
      "  0.71417797  0.99355577  0.69864052  0.72217647  0.75484245  0.72484426\n",
      "  1.00897272  0.78622423  0.6251748   0.10120956  0.34895516  1.23240188\n",
      "  0.62428416  1.36449822  0.77463461  0.6981952   0.89018938  0.93347084\n",
      "  0.66890158  1.08884609  0.88974406  0.82175437  0.85290437  0.52373341\n",
      "  0.76707553  0.98311896  0.87554256  1.57438221  1.44570334  1.02850827\n",
      "  0.24454632  0.27568921  0.59475141  0.8595598   0.91747562  0.83181579\n",
      "  0.56591057  0.89018938  1.06122107  0.92033907  0.66771978  0.64278229\n",
      "  0.93894686  0.90417721  0.25223342  0.89018938  0.69864052  0.57629539\n",
      "  0.99235396  0.638272    0.54535176  0.98814967  0.70419165]\n"
     ]
    }
   ],
   "source": [
    "predictions = lm.predict(X_train)\n",
    "print(predictions)"
   ]
  },
  {
   "cell_type": "code",
   "execution_count": 155,
   "id": "fe528746-f431-4856-8e2a-1c102de38beb",
   "metadata": {},
   "outputs": [
    {
     "data": {
      "text/plain": [
       "0.21572509741372403"
      ]
     },
     "execution_count": 155,
     "metadata": {},
     "output_type": "execute_result"
    }
   ],
   "source": [
    "lm.score(X_train, y_train)"
   ]
  },
  {
   "cell_type": "code",
   "execution_count": 156,
   "id": "9bdd8061-98e8-47db-8e80-d5f90092045d",
   "metadata": {},
   "outputs": [],
   "source": [
    "\n",
    "################## Árboles de decisión y clasificación (CART) ##################\n"
   ]
  },
  {
   "cell_type": "code",
   "execution_count": 166,
   "id": "02e501d0-28fa-4a6e-a2cc-c51e7bb76405",
   "metadata": {},
   "outputs": [
    {
     "data": {
      "text/plain": [
       "DecisionTreeRegressor(max_depth=2, random_state=42)"
      ]
     },
     "execution_count": 166,
     "metadata": {},
     "output_type": "execute_result"
    }
   ],
   "source": [
    "dt = DecisionTreeRegressor(max_depth=2, random_state=42) \n",
    "dt.fit(X_train, y_train)"
   ]
  },
  {
   "cell_type": "code",
   "execution_count": 179,
   "id": "fa50d1a8-6d8d-4b3c-ac02-88a4b4fc685e",
   "metadata": {},
   "outputs": [
    {
     "name": "stdout",
     "output_type": "stream",
     "text": [
      "[0.28333333 0.76666667 1.88888889 1.88888889 0.28333333 0.28333333\n",
      " 1.88888889 1.45454545 0.28333333 0.76666667 1.88888889 0.76666667\n",
      " 0.28333333 0.76666667 1.88888889 0.28333333 0.76666667 0.28333333\n",
      " 0.28333333 1.45454545 1.45454545 0.28333333 0.28333333 1.88888889\n",
      " 1.88888889 1.45454545 1.88888889 0.28333333 0.28333333 0.28333333\n",
      " 0.76666667 0.76666667 0.76666667 0.76666667 0.28333333 1.88888889\n",
      " 0.28333333 0.76666667 0.28333333 0.28333333 0.28333333 1.88888889\n",
      " 0.76666667 0.28333333 0.28333333 0.28333333 0.28333333 0.76666667\n",
      " 0.28333333 0.28333333 0.76666667 1.45454545 0.76666667 0.28333333\n",
      " 0.28333333 0.28333333 1.45454545 1.45454545 0.28333333 0.76666667\n",
      " 0.28333333 0.76666667 0.28333333 0.76666667 0.28333333 0.76666667\n",
      " 0.28333333 1.88888889 0.28333333 0.28333333 0.76666667 0.76666667\n",
      " 0.76666667 0.28333333 0.28333333 0.76666667 0.76666667 0.76666667\n",
      " 0.28333333 0.76666667 0.76666667 0.28333333 1.88888889 1.88888889\n",
      " 0.28333333 0.28333333 1.88888889 0.28333333 0.28333333 0.28333333\n",
      " 0.28333333 1.45454545 0.28333333 1.88888889 0.28333333 1.45454545\n",
      " 0.28333333 0.28333333 0.76666667 0.28333333 0.28333333 1.45454545\n",
      " 0.28333333 1.88888889 0.76666667 0.76666667 0.28333333 0.28333333\n",
      " 1.88888889 0.28333333 0.28333333 1.88888889 0.28333333 0.28333333\n",
      " 0.28333333 0.28333333 0.76666667 1.45454545 0.28333333]\n"
     ]
    }
   ],
   "source": [
    "print(dt.predict(X_train))"
   ]
  },
  {
   "cell_type": "code",
   "execution_count": 180,
   "id": "e3ec0324-7eed-4893-912f-49370f139ccd",
   "metadata": {},
   "outputs": [
    {
     "data": {
      "text/plain": [
       "0.5111229733229732"
      ]
     },
     "execution_count": 180,
     "metadata": {},
     "output_type": "execute_result"
    }
   ],
   "source": [
    "dt.score(X_train, y_train)"
   ]
  }
 ],
 "metadata": {
  "kernelspec": {
   "display_name": "Python 3 (ipykernel)",
   "language": "python",
   "name": "python3"
  },
  "language_info": {
   "codemirror_mode": {
    "name": "ipython",
    "version": 3
   },
   "file_extension": ".py",
   "mimetype": "text/x-python",
   "name": "python",
   "nbconvert_exporter": "python",
   "pygments_lexer": "ipython3",
   "version": "3.9.13"
  }
 },
 "nbformat": 4,
 "nbformat_minor": 5
}
